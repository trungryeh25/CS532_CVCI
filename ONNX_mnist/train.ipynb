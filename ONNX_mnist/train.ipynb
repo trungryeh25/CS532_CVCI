{
  "cells": [
    {
      "cell_type": "code",
      "execution_count": 1,
      "metadata": {
        "id": "_EH_Sd64nE9p"
      },
      "outputs": [
        {
          "name": "stderr",
          "output_type": "stream",
          "text": [
            "c:\\Users\\nguye\\anaconda3\\envs\\pytor\\lib\\site-packages\\tqdm\\auto.py:22: TqdmWarning: IProgress not found. Please update jupyter and ipywidgets. See https://ipywidgets.readthedocs.io/en/stable/user_install.html\n",
            "  from .autonotebook import tqdm as notebook_tqdm\n"
          ]
        }
      ],
      "source": [
        "import torch\n",
        "import torch.nn as nn\n",
        "import torch.nn.functional as F\n",
        "import torch.optim as optim\n",
        "import torchvision\n",
        "from torchvision import transforms\n",
        "from torch.utils.data import DataLoader\n",
        "from torch.utils.data.sampler import SubsetRandomSampler\n",
        "import time"
      ]
    },
    {
      "cell_type": "code",
      "execution_count": 2,
      "metadata": {},
      "outputs": [],
      "source": [
        "from torchvision.datasets import MNIST\n",
        "## Load MNIST Dataset and apply transformations\n",
        "mnist = MNIST(\"data\", download=True, train=True, transform=transforms.Compose([transforms.ToTensor(),transforms.Normalize((0.5,), (0.5,))]))"
      ]
    },
    {
      "cell_type": "code",
      "execution_count": 3,
      "metadata": {},
      "outputs": [],
      "source": [
        "rawData = DataLoader(mnist, batch_size=10)\n",
        "dataiter = iter(rawData)\n",
        "data, labels = dataiter.next()\n",
        "data = data.view(data.shape[0], -1)"
      ]
    },
    {
      "cell_type": "code",
      "execution_count": 4,
      "metadata": {},
      "outputs": [],
      "source": [
        "## create training and validation split \n",
        "split = int(0.8 * len(mnist))\n",
        "index_list = list(range(len(mnist)))\n",
        "train_idx, valid_idx = index_list[:split], index_list[split:]\n",
        "## create sampler objects using SubsetRandomSampler\n",
        "tr_sampler = SubsetRandomSampler(train_idx)\n",
        "val_sampler = SubsetRandomSampler(valid_idx)\n",
        "## create iterator objects for train and valid datasets\n",
        "trainloader = DataLoader(mnist, batch_size=256, sampler=tr_sampler)\n",
        "validloader = DataLoader(mnist, batch_size=256, sampler=val_sampler)"
      ]
    },
    {
      "cell_type": "code",
      "execution_count": 5,
      "metadata": {
        "id": "eU20lt1fwBdj"
      },
      "outputs": [],
      "source": [
        "class Model(nn.Module):\n",
        "    def __init__(self):\n",
        "        super().__init__()\n",
        "        self.hidden = nn.Linear(784, 128)\n",
        "        self.output = nn.Linear(128, 10)\n",
        "        \n",
        "    def forward(self, x):\n",
        "        x = self.hidden(x)\n",
        "        x = F.sigmoid(x)\n",
        "        x = self.output(x)\n",
        "        return x"
      ]
    },
    {
      "cell_type": "code",
      "execution_count": 6,
      "metadata": {},
      "outputs": [
        {
          "name": "stdout",
          "output_type": "stream",
          "text": [
            "cuda:0\n"
          ]
        }
      ],
      "source": [
        "device = torch.device('cuda:0' if torch.cuda.is_available() else 'cpu')\n",
        "print(device)"
      ]
    },
    {
      "cell_type": "code",
      "execution_count": 7,
      "metadata": {},
      "outputs": [
        {
          "data": {
            "text/plain": [
              "Model(\n",
              "  (hidden): Linear(in_features=784, out_features=128, bias=True)\n",
              "  (output): Linear(in_features=128, out_features=10, bias=True)\n",
              ")"
            ]
          },
          "execution_count": 7,
          "metadata": {},
          "output_type": "execute_result"
        }
      ],
      "source": [
        "model = Model()\n",
        "model.to(device)"
      ]
    },
    {
      "cell_type": "code",
      "execution_count": 8,
      "metadata": {},
      "outputs": [],
      "source": [
        "from torch import optim\n",
        "\n",
        "loss_function = nn.CrossEntropyLoss()\n",
        "optimizer = optim.SGD(model.parameters(), lr=0.01, weight_decay= 1e-6, momentum = 0.9, nesterov = True)"
      ]
    },
    {
      "cell_type": "code",
      "execution_count": 9,
      "metadata": {},
      "outputs": [
        {
          "name": "stderr",
          "output_type": "stream",
          "text": [
            "c:\\Users\\nguye\\anaconda3\\envs\\pytor\\lib\\site-packages\\torch\\nn\\functional.py:1944: UserWarning: nn.functional.sigmoid is deprecated. Use torch.sigmoid instead.\n",
            "  warnings.warn(\"nn.functional.sigmoid is deprecated. Use torch.sigmoid instead.\")\n"
          ]
        },
        {
          "name": "stdout",
          "output_type": "stream",
          "text": [
            "Epoch: 1 Training Loss:  1.4383111000061035 Valid Loss:  0.7111203771956424\n",
            "Epoch: 2 Training Loss:  0.577650359177843 Valid Loss:  0.4458046986701641\n",
            "Epoch: 3 Training Loss:  0.43225214757183766 Valid Loss:  0.37175066230144904\n",
            "Epoch: 4 Training Loss:  0.37655952747197863 Valid Loss:  0.33566163987555403\n",
            "Epoch: 5 Training Loss:  0.3458935962395465 Valid Loss:  0.313830721568554\n",
            "Epoch: 6 Training Loss:  0.3250329224987233 Valid Loss:  0.2979783149475747\n",
            "Epoch: 7 Training Loss:  0.3086256218400407 Valid Loss:  0.285921943631578\n",
            "Epoch: 8 Training Loss:  0.2955181490867696 Valid Loss:  0.27437526494898695\n",
            "Epoch: 9 Training Loss:  0.2843670953619987 Valid Loss:  0.2674336912150079\n",
            "Epoch: 10 Training Loss:  0.2739129112438953 Valid Loss:  0.2573731611383722\n"
          ]
        }
      ],
      "source": [
        "import numpy as np\n",
        "\n",
        "for epoch in range(1, 11): ## run the model for 10 epochs\n",
        "    train_loss, valid_loss = [], []\n",
        "    ## training part \n",
        "    model.train()\n",
        "    for data, target in trainloader:\n",
        "        data = data.to(device)\n",
        "        target = target.to(device)\n",
        "        optimizer.zero_grad()\n",
        "        ## 1. forward propagation\n",
        "        data = data.view(data.shape[0], -1)\n",
        "        output = model(data)\n",
        "        \n",
        "        ## 2. loss calculation\n",
        "        loss = loss_function(output, target)\n",
        "        \n",
        "        ## 3. backward propagation\n",
        "        loss.backward()\n",
        "        \n",
        "        ## 4. weight optimization\n",
        "        optimizer.step()\n",
        "        \n",
        "        train_loss.append(loss.item())\n",
        "        \n",
        "    ## evaluation part \n",
        "    model.eval()\n",
        "    for data, target in validloader:\n",
        "        data = data.to(device)\n",
        "        target = target.to(device)\n",
        "        data = data.view(data.shape[0], -1)\n",
        "        output = model(data)\n",
        "        loss = loss_function(output, target)\n",
        "        valid_loss.append(loss.item())\n",
        "    print (\"Epoch:\", epoch, \"Training Loss: \", np.mean(train_loss), \"Valid Loss: \", np.mean(valid_loss))"
      ]
    },
    {
      "cell_type": "code",
      "execution_count": 10,
      "metadata": {
        "id": "tgNoaZ5zwFa2"
      },
      "outputs": [],
      "source": [
        "torch.save(model.state_dict(), 'mnist.pt')"
      ]
    },
    {
      "cell_type": "code",
      "execution_count": 11,
      "metadata": {},
      "outputs": [
        {
          "data": {
            "text/plain": [
              "Model(\n",
              "  (hidden): Linear(in_features=784, out_features=128, bias=True)\n",
              "  (output): Linear(in_features=128, out_features=10, bias=True)\n",
              ")"
            ]
          },
          "execution_count": 11,
          "metadata": {},
          "output_type": "execute_result"
        }
      ],
      "source": [
        "loaded_model = Model()\n",
        "loaded_model.load_state_dict(torch.load('mnist.pt'))\n",
        "loaded_model.to(device)"
      ]
    },
    {
      "cell_type": "code",
      "execution_count": 12,
      "metadata": {},
      "outputs": [],
      "source": [
        "dataiter = iter(validloader)\n",
        "data, labels = dataiter.next()\n",
        "\n",
        "data = data.to(device)\n",
        "labels = labels.to(device)\n",
        "\n",
        "data = data.view(data.shape[0], -1)\n",
        "\n",
        "output = loaded_model(data)\n",
        "\n",
        "_, preds_tensor = torch.max(output, 1)\n",
        "pytorchPredictions = np.squeeze(preds_tensor)"
      ]
    },
    {
      "cell_type": "code",
      "execution_count": 13,
      "metadata": {},
      "outputs": [
        {
          "name": "stdout",
          "output_type": "stream",
          "text": [
            "ACCURACY: 94.140625\n"
          ]
        }
      ],
      "source": [
        "print('ACCURACY:', (torch.sum(pytorchPredictions == labels)/len(labels)).to('cpu').numpy() * 100)"
      ]
    },
    {
      "cell_type": "code",
      "execution_count": 38,
      "metadata": {},
      "outputs": [
        {
          "data": {
            "image/png": "[encoded data removed]",
            "text/plain": [
              "<Figure size 432x288 with 1 Axes>"
            ]
          },
          "metadata": {
            "needs_background": "light"
          },
          "output_type": "display_data"
        }
      ],
      "source": [
        "import cv2\n",
        "import matplotlib.pyplot as plt\n",
        "\n",
        "img = cv2.imread('3.jpg', 0).astype(np.float32)\n",
        "plt.imshow(img)\n",
        "plt.axis('off')\n",
        "img = cv2.resize(img, (28,28)).reshape(1, 784)\n",
        "img = torch.tensor(img).reshape([1, 784])"
      ]
    },
    {
      "cell_type": "code",
      "execution_count": 39,
      "metadata": {},
      "outputs": [
        {
          "name": "stderr",
          "output_type": "stream",
          "text": [
            "c:\\Users\\nguye\\anaconda3\\envs\\pytor\\lib\\site-packages\\torch\\nn\\functional.py:1944: UserWarning: nn.functional.sigmoid is deprecated. Use torch.sigmoid instead.\n",
            "  warnings.warn(\"nn.functional.sigmoid is deprecated. Use torch.sigmoid instead.\")\n"
          ]
        }
      ],
      "source": [
        "output = model(img.to(device))\n",
        "\n",
        "_, preds_tensor = torch.max(output, 1)\n",
        "pytorchPredictions = np.squeeze(preds_tensor)"
      ]
    },
    {
      "cell_type": "code",
      "execution_count": 40,
      "metadata": {},
      "outputs": [
        {
          "name": "stdout",
          "output_type": "stream",
          "text": [
            "The predict result is 3\n"
          ]
        }
      ],
      "source": [
        "print('The predict result is', pytorchPredictions.to('cpu').numpy())"
      ]
    }
  ],
  "metadata": {
    "accelerator": "GPU",
    "colab": {
      "collapsed_sections": [],
      "name": "Convert PyTorch model to TensorFlow.ipynb",
      "provenance": [],
      "toc_visible": true
    },
    "interpreter": {
      "hash": "2bfc1aa1bf0c2ad78fe206aeef7062f725c77bccc81e1ae650f528368f9734db"
    },
    "kernelspec": {
      "display_name": "Python 3.9.12 ('pytor')",
      "language": "python",
      "name": "python3"
    },
    "language_info": {
      "codemirror_mode": {
        "name": "ipython",
        "version": 3
      },
      "file_extension": ".py",
      "mimetype": "text/x-python",
      "name": "python",
      "nbconvert_exporter": "python",
      "pygments_lexer": "ipython3",
      "version": "3.9.12"
    }
  },
  "nbformat": 4,
  "nbformat_minor": 0
}
